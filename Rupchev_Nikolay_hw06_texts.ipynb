{
 "cells": [
  {
   "cell_type": "markdown",
   "metadata": {},
   "source": [
    "# Интеллектуальный анализ данных – весна 2024\n",
    "# Домашнее задание 6: классификация текстов"
   ]
  },
  {
   "cell_type": "markdown",
   "metadata": {},
   "source": [
    "Правила:\n",
    "\n",
    "\n",
    "\n",
    "*   Домашнее задание оценивается в 10 баллов.\n",
    "*   Можно использовать без доказательства любые результаты, встречавшиеся на лекциях или семинарах по курсу, если получение этих результатов не является вопросом задания.\n",
    "*  Можно использовать любые свободные источники с *обязательным* указанием ссылки на них.\n",
    "*  Плагиат не допускается. При обнаружении случаев списывания, 0 за работу выставляется всем участникам нарушения, даже если можно установить, кто у кого списал.\n",
    "*  Старайтесь сделать код как можно более оптимальным. В частности, будет штрафоваться использование циклов в тех случаях, когда операцию можно совершить при помощи инструментов библиотек, о которых рассказывалось в курсе."
   ]
  },
  {
   "cell_type": "markdown",
   "metadata": {},
   "source": [
    "В этом домашнем задании вам предстоит построить классификатор текстов.\n",
    "\n",
    "Будем предсказывать эмоциональную окраску твиттов о коронавирусе.\n",
    "\n"
   ]
  },
  {
   "cell_type": "code",
   "execution_count": 2,
   "metadata": {},
   "outputs": [],
   "source": [
    "import numpy as np\n",
    "import pandas as pd\n",
    "from typing import  List\n",
    "import matplotlib.pyplot as plt\n",
    "import seaborn as sns\n",
    "from string import punctuation"
   ]
  },
  {
   "cell_type": "code",
   "execution_count": 3,
   "metadata": {},
   "outputs": [
    {
     "data": {
      "text/html": [
       "<div>\n",
       "<style scoped>\n",
       "    .dataframe tbody tr th:only-of-type {\n",
       "        vertical-align: middle;\n",
       "    }\n",
       "\n",
       "    .dataframe tbody tr th {\n",
       "        vertical-align: top;\n",
       "    }\n",
       "\n",
       "    .dataframe thead th {\n",
       "        text-align: right;\n",
       "    }\n",
       "</style>\n",
       "<table border=\"1\" class=\"dataframe\">\n",
       "  <thead>\n",
       "    <tr style=\"text-align: right;\">\n",
       "      <th></th>\n",
       "      <th>UserName</th>\n",
       "      <th>ScreenName</th>\n",
       "      <th>Location</th>\n",
       "      <th>TweetAt</th>\n",
       "      <th>OriginalTweet</th>\n",
       "      <th>Sentiment</th>\n",
       "    </tr>\n",
       "  </thead>\n",
       "  <tbody>\n",
       "    <tr>\n",
       "      <th>10086</th>\n",
       "      <td>16040</td>\n",
       "      <td>60992</td>\n",
       "      <td>Dreamland</td>\n",
       "      <td>21-03-2020</td>\n",
       "      <td>Idea for anyone who had planned on proposing: ...</td>\n",
       "      <td>Extremely Positive</td>\n",
       "    </tr>\n",
       "    <tr>\n",
       "      <th>25600</th>\n",
       "      <td>35153</td>\n",
       "      <td>80105</td>\n",
       "      <td>Edinburgh and Moraira</td>\n",
       "      <td>06-04-2020</td>\n",
       "      <td>Tired of doing your bit to keep Covid-19 at ba...</td>\n",
       "      <td>Extremely Negative</td>\n",
       "    </tr>\n",
       "    <tr>\n",
       "      <th>18982</th>\n",
       "      <td>26906</td>\n",
       "      <td>71858</td>\n",
       "      <td>Crawley</td>\n",
       "      <td>25-03-2020</td>\n",
       "      <td>@iamthemunchie Nice to see you back Munchie on...</td>\n",
       "      <td>Negative</td>\n",
       "    </tr>\n",
       "    <tr>\n",
       "      <th>33343</th>\n",
       "      <td>44822</td>\n",
       "      <td>89774</td>\n",
       "      <td>United States</td>\n",
       "      <td>14-04-2020</td>\n",
       "      <td>Remember back in the day when youÃÂd go to t...</td>\n",
       "      <td>Positive</td>\n",
       "    </tr>\n",
       "  </tbody>\n",
       "</table>\n",
       "</div>"
      ],
      "text/plain": [
       "       UserName  ScreenName               Location     TweetAt  \\\n",
       "10086     16040       60992              Dreamland  21-03-2020   \n",
       "25600     35153       80105  Edinburgh and Moraira  06-04-2020   \n",
       "18982     26906       71858                Crawley  25-03-2020   \n",
       "33343     44822       89774          United States  14-04-2020   \n",
       "\n",
       "                                           OriginalTweet           Sentiment  \n",
       "10086  Idea for anyone who had planned on proposing: ...  Extremely Positive  \n",
       "25600  Tired of doing your bit to keep Covid-19 at ba...  Extremely Negative  \n",
       "18982  @iamthemunchie Nice to see you back Munchie on...            Negative  \n",
       "33343  Remember back in the day when youÃÂd go to t...            Positive  "
      ]
     },
     "execution_count": 3,
     "metadata": {},
     "output_type": "execute_result"
    }
   ],
   "source": [
    "df = pd.read_csv('tweets_coronavirus.csv', encoding='latin-1')\n",
    "df.sample(4)"
   ]
  },
  {
   "cell_type": "markdown",
   "metadata": {},
   "source": [
    "Для каждого твитта указано:\n",
    "\n",
    "\n",
    "*   UserName - имя пользователя, заменено на целое число для анонимности\n",
    "*   ScreenName - отображающееся имя пользователя, заменено на целое число для анонимности\n",
    "*   Location - местоположение\n",
    "*   TweetAt - дата создания твитта\n",
    "*   OriginalTweet - текст твитта\n",
    "*   Sentiment - эмоциональная окраска твитта (целевая переменная)\n",
    "\n"
   ]
  },
  {
   "cell_type": "markdown",
   "metadata": {},
   "source": [
    "## Задание 1 Подготовка (0.5 балла)"
   ]
  },
  {
   "cell_type": "markdown",
   "metadata": {},
   "source": [
    "Целевая переменная находится в колонке `Sentiment`.  Преобразуйте ее таким образом, чтобы она стала бинарной: 1 - если у твитта положительная эмоциональная окраска и 0 - если отрицательная."
   ]
  },
  {
   "cell_type": "code",
   "execution_count": 4,
   "metadata": {},
   "outputs": [
    {
     "data": {
      "text/plain": [
       "Positive              11422\n",
       "Negative               9917\n",
       "Extremely Positive     6624\n",
       "Extremely Negative     5481\n",
       "Name: Sentiment, dtype: int64"
      ]
     },
     "execution_count": 4,
     "metadata": {},
     "output_type": "execute_result"
    }
   ],
   "source": [
    "df[\"Sentiment\"].value_counts()"
   ]
  },
  {
   "cell_type": "code",
   "execution_count": 5,
   "metadata": {},
   "outputs": [],
   "source": [
    "df[\"Sentiment\"] = df[\"Sentiment\"].apply(lambda s: 1 if s == \"Positive\" or s == \"Extremely Positive\" else 0)"
   ]
  },
  {
   "cell_type": "markdown",
   "metadata": {},
   "source": [
    "Сбалансированы ли классы?"
   ]
  },
  {
   "cell_type": "code",
   "execution_count": 6,
   "metadata": {},
   "outputs": [
    {
     "data": {
      "text/plain": [
       "1    18046\n",
       "0    15398\n",
       "Name: Sentiment, dtype: int64"
      ]
     },
     "execution_count": 6,
     "metadata": {},
     "output_type": "execute_result"
    }
   ],
   "source": [
    "df[\"Sentiment\"].value_counts()"
   ]
  },
  {
   "cell_type": "code",
   "execution_count": 7,
   "metadata": {},
   "outputs": [
    {
     "name": "stdout",
     "output_type": "stream",
     "text": [
      "0: 0.5395885659610095\n",
      "1: 0.46041143403899054\n"
     ]
    }
   ],
   "source": [
    "l = list(df[\"Sentiment\"].value_counts())\n",
    "print(\"0:\", l[0] / (l[0] + l[1]))\n",
    "print(\"1:\", l[1] / (l[0] + l[1]))"
   ]
  },
  {
   "cell_type": "markdown",
   "metadata": {},
   "source": [
    "**Ответ:** Да, сбалансированы"
   ]
  },
  {
   "cell_type": "markdown",
   "metadata": {},
   "source": [
    "Выведете на экран информацию о пропусках в данных. Если пропуски присутствуют заполните их строкой 'Unknown'."
   ]
  },
  {
   "cell_type": "code",
   "execution_count": 8,
   "metadata": {},
   "outputs": [
    {
     "data": {
      "text/html": [
       "<div>\n",
       "<style scoped>\n",
       "    .dataframe tbody tr th:only-of-type {\n",
       "        vertical-align: middle;\n",
       "    }\n",
       "\n",
       "    .dataframe tbody tr th {\n",
       "        vertical-align: top;\n",
       "    }\n",
       "\n",
       "    .dataframe thead th {\n",
       "        text-align: right;\n",
       "    }\n",
       "</style>\n",
       "<table border=\"1\" class=\"dataframe\">\n",
       "  <thead>\n",
       "    <tr style=\"text-align: right;\">\n",
       "      <th></th>\n",
       "      <th>UserName</th>\n",
       "      <th>ScreenName</th>\n",
       "      <th>Location</th>\n",
       "      <th>TweetAt</th>\n",
       "      <th>OriginalTweet</th>\n",
       "      <th>Sentiment</th>\n",
       "    </tr>\n",
       "  </thead>\n",
       "  <tbody>\n",
       "    <tr>\n",
       "      <th>2</th>\n",
       "      <td>3802</td>\n",
       "      <td>48754</td>\n",
       "      <td>NaN</td>\n",
       "      <td>16-03-2020</td>\n",
       "      <td>My food stock is not the only one which is emp...</td>\n",
       "      <td>1</td>\n",
       "    </tr>\n",
       "    <tr>\n",
       "      <th>3</th>\n",
       "      <td>3803</td>\n",
       "      <td>48755</td>\n",
       "      <td>NaN</td>\n",
       "      <td>16-03-2020</td>\n",
       "      <td>Me, ready to go at supermarket during the #COV...</td>\n",
       "      <td>0</td>\n",
       "    </tr>\n",
       "    <tr>\n",
       "      <th>11</th>\n",
       "      <td>3813</td>\n",
       "      <td>48765</td>\n",
       "      <td>NaN</td>\n",
       "      <td>16-03-2020</td>\n",
       "      <td>ADARA Releases COVID-19 Resource Center for Tr...</td>\n",
       "      <td>1</td>\n",
       "    </tr>\n",
       "    <tr>\n",
       "      <th>16</th>\n",
       "      <td>3821</td>\n",
       "      <td>48773</td>\n",
       "      <td>NaN</td>\n",
       "      <td>16-03-2020</td>\n",
       "      <td>We have AMAZING CHEAP DEALS! FOR THE #COVID201...</td>\n",
       "      <td>1</td>\n",
       "    </tr>\n",
       "    <tr>\n",
       "      <th>17</th>\n",
       "      <td>3822</td>\n",
       "      <td>48774</td>\n",
       "      <td>NaN</td>\n",
       "      <td>16-03-2020</td>\n",
       "      <td>We have AMAZING CHEAP DEALS! FOR THE #COVID201...</td>\n",
       "      <td>1</td>\n",
       "    </tr>\n",
       "    <tr>\n",
       "      <th>...</th>\n",
       "      <td>...</td>\n",
       "      <td>...</td>\n",
       "      <td>...</td>\n",
       "      <td>...</td>\n",
       "      <td>...</td>\n",
       "      <td>...</td>\n",
       "    </tr>\n",
       "    <tr>\n",
       "      <th>33431</th>\n",
       "      <td>44938</td>\n",
       "      <td>89890</td>\n",
       "      <td>NaN</td>\n",
       "      <td>14-04-2020</td>\n",
       "      <td>Hello everyone \\r\\r\\nPlease share this in your...</td>\n",
       "      <td>1</td>\n",
       "    </tr>\n",
       "    <tr>\n",
       "      <th>33437</th>\n",
       "      <td>44947</td>\n",
       "      <td>89899</td>\n",
       "      <td>NaN</td>\n",
       "      <td>14-04-2020</td>\n",
       "      <td>UV light Sterilizer Sanitizer for your mask an...</td>\n",
       "      <td>1</td>\n",
       "    </tr>\n",
       "    <tr>\n",
       "      <th>33440</th>\n",
       "      <td>44950</td>\n",
       "      <td>89902</td>\n",
       "      <td>NaN</td>\n",
       "      <td>14-04-2020</td>\n",
       "      <td>@MrSilverScott you are definitely my man. I fe...</td>\n",
       "      <td>1</td>\n",
       "    </tr>\n",
       "    <tr>\n",
       "      <th>33441</th>\n",
       "      <td>44952</td>\n",
       "      <td>89904</td>\n",
       "      <td>NaN</td>\n",
       "      <td>14-04-2020</td>\n",
       "      <td>Response to complaint not provided citing COVI...</td>\n",
       "      <td>0</td>\n",
       "    </tr>\n",
       "    <tr>\n",
       "      <th>33442</th>\n",
       "      <td>44953</td>\n",
       "      <td>89905</td>\n",
       "      <td>NaN</td>\n",
       "      <td>14-04-2020</td>\n",
       "      <td>You know itÃÂs getting tough when @KameronWi...</td>\n",
       "      <td>1</td>\n",
       "    </tr>\n",
       "  </tbody>\n",
       "</table>\n",
       "<p>7049 rows × 6 columns</p>\n",
       "</div>"
      ],
      "text/plain": [
       "       UserName  ScreenName Location     TweetAt  \\\n",
       "2          3802       48754      NaN  16-03-2020   \n",
       "3          3803       48755      NaN  16-03-2020   \n",
       "11         3813       48765      NaN  16-03-2020   \n",
       "16         3821       48773      NaN  16-03-2020   \n",
       "17         3822       48774      NaN  16-03-2020   \n",
       "...         ...         ...      ...         ...   \n",
       "33431     44938       89890      NaN  14-04-2020   \n",
       "33437     44947       89899      NaN  14-04-2020   \n",
       "33440     44950       89902      NaN  14-04-2020   \n",
       "33441     44952       89904      NaN  14-04-2020   \n",
       "33442     44953       89905      NaN  14-04-2020   \n",
       "\n",
       "                                           OriginalTweet  Sentiment  \n",
       "2      My food stock is not the only one which is emp...          1  \n",
       "3      Me, ready to go at supermarket during the #COV...          0  \n",
       "11     ADARA Releases COVID-19 Resource Center for Tr...          1  \n",
       "16     We have AMAZING CHEAP DEALS! FOR THE #COVID201...          1  \n",
       "17     We have AMAZING CHEAP DEALS! FOR THE #COVID201...          1  \n",
       "...                                                  ...        ...  \n",
       "33431  Hello everyone \\r\\r\\nPlease share this in your...          1  \n",
       "33437  UV light Sterilizer Sanitizer for your mask an...          1  \n",
       "33440  @MrSilverScott you are definitely my man. I fe...          1  \n",
       "33441  Response to complaint not provided citing COVI...          0  \n",
       "33442  You know itÃÂs getting tough when @KameronWi...          1  \n",
       "\n",
       "[7049 rows x 6 columns]"
      ]
     },
     "execution_count": 8,
     "metadata": {},
     "output_type": "execute_result"
    }
   ],
   "source": [
    "df[df.isna().any(axis=1)]"
   ]
  },
  {
   "cell_type": "code",
   "execution_count": 9,
   "metadata": {},
   "outputs": [],
   "source": [
    "df = df.fillna(\"Unknown\")"
   ]
  },
  {
   "cell_type": "markdown",
   "metadata": {},
   "source": [
    "Разделите данные на обучающие и тестовые в соотношении 7 : 3 и `random_state=0`"
   ]
  },
  {
   "cell_type": "code",
   "execution_count": 10,
   "metadata": {},
   "outputs": [],
   "source": [
    "from sklearn.model_selection import train_test_split\n",
    "\n",
    "train, test = train_test_split(df, test_size=0.3, random_state=0)"
   ]
  },
  {
   "cell_type": "markdown",
   "metadata": {},
   "source": [
    "## Задание 2 Токенизация (3 балла)"
   ]
  },
  {
   "cell_type": "markdown",
   "metadata": {},
   "source": [
    "Постройте словарь на основе обучающей выборки и посчитайте количество встреч каждого токена с использованием самой простой токенизации - деления текстов по пробельным символам и приведение токенов в нижний регистр"
   ]
  },
  {
   "cell_type": "code",
   "execution_count": 11,
   "metadata": {},
   "outputs": [],
   "source": [
    "wordlist = \" \".join(train[\"OriginalTweet\"]).lower().split()"
   ]
  },
  {
   "cell_type": "code",
   "execution_count": 12,
   "metadata": {},
   "outputs": [],
   "source": [
    "from collections import Counter\n",
    "wordlist_dictionary = Counter(wordlist)"
   ]
  },
  {
   "cell_type": "markdown",
   "metadata": {},
   "source": [
    "Какой размер словаря получился?"
   ]
  },
  {
   "cell_type": "code",
   "execution_count": 13,
   "metadata": {},
   "outputs": [
    {
     "data": {
      "text/plain": [
       "79755"
      ]
     },
     "execution_count": 13,
     "metadata": {},
     "output_type": "execute_result"
    }
   ],
   "source": [
    "len(wordlist_dictionary)"
   ]
  },
  {
   "cell_type": "markdown",
   "metadata": {},
   "source": [
    "Выведите 10 самых популярных токенов с количеством встреч каждого из них. Объясните, почему именно эти токены в топе"
   ]
  },
  {
   "cell_type": "code",
   "execution_count": 14,
   "metadata": {},
   "outputs": [
    {
     "data": {
      "text/plain": [
       "[('the', 26815),\n",
       " ('to', 23373),\n",
       " ('and', 14684),\n",
       " ('of', 13012),\n",
       " ('a', 11737),\n",
       " ('in', 11198),\n",
       " ('for', 8566),\n",
       " ('#coronavirus', 8223),\n",
       " ('is', 7383),\n",
       " ('are', 7050)]"
      ]
     },
     "execution_count": 14,
     "metadata": {},
     "output_type": "execute_result"
    }
   ],
   "source": [
    "sorted(wordlist_dictionary.items(), key=lambda kv: kv[1], reverse=True)[:10]"
   ]
  },
  {
   "cell_type": "markdown",
   "metadata": {},
   "source": [
    "**Ответ:** Наиболее часто встречаются артикли, союзы и глаголы to be в разных формах, а также токен #coronavirus. Артикли и предлоги чаще остальных слов встречаются в английском языке, так как слов, принадлежащих к остальным частям речи, очень много, а предлогов и артиклей (которые встречаются перед многими словами) - ограниченное количество. Глагол to be - один из самых частых английских глаголов. Так как база данных твитов собрана во время коронавируса, то также ожидаемо, что хештег #coronavirus будет встречаться во многих твитах."
   ]
  },
  {
   "cell_type": "markdown",
   "metadata": {},
   "source": [
    "Удалите стоп-слова из словаря и выведите новый топ-10 токенов (и количество встреч) по популярности.  Что можно сказать  о нем?"
   ]
  },
  {
   "cell_type": "code",
   "execution_count": 15,
   "metadata": {},
   "outputs": [
    {
     "data": {
      "text/plain": [
       "[('#coronavirus', 8223),\n",
       " ('prices', 3891),\n",
       " ('food', 3820),\n",
       " ('grocery', 3469),\n",
       " ('supermarket', 3288),\n",
       " ('people', 3175),\n",
       " ('covid-19', 3173),\n",
       " ('store', 3155),\n",
       " ('#covid19', 2471),\n",
       " ('&amp;', 2314)]"
      ]
     },
     "execution_count": 15,
     "metadata": {},
     "output_type": "execute_result"
    }
   ],
   "source": [
    "import nltk\n",
    "nltk.download(\"stopwords\", quiet=True)\n",
    "from nltk.corpus import stopwords\n",
    "\n",
    "# del wordlist_distionary[stopwords.words(\"english\")]\n",
    "# map(wordlist_dictionary.__delitem__, )\n",
    "for key in stopwords.words(\"english\"):\n",
    "    del wordlist_dictionary[key]\n",
    "sorted(wordlist_dictionary.items(), key=lambda kv: kv[1], reverse=True)[:10]"
   ]
  },
  {
   "cell_type": "markdown",
   "metadata": {},
   "source": [
    "**Ответ:**  Удалились все слова по типу предлогов/союзов/глаголов to be/и т. д. (т. е. все несмысловые слова). Остались слова с лексическим значением. Самые популярные слова соответствуют часто обсуждаемым в интернете темам"
   ]
  },
  {
   "cell_type": "markdown",
   "metadata": {},
   "source": [
    "Также выведите 20 самых непопулярных слов (если самых непопулярных слов больше выведите любые 20 из них) Почему эти токены непопулярны, требуется ли как-то дополнительно работать с ними?"
   ]
  },
  {
   "cell_type": "code",
   "execution_count": 16,
   "metadata": {},
   "outputs": [
    {
     "data": {
      "text/plain": [
       "[('https://t.co/1m881cwfuv', 1),\n",
       " ('happy..', 1),\n",
       " ('https://t.co/z0intks34x', 1),\n",
       " ('mnuchinã\\x82â\\x92s', 1),\n",
       " ('brink.', 1),\n",
       " ('https://t.co/jmobv8z0u0', 1),\n",
       " (\"university's\", 1),\n",
       " ('teaching.)', 1),\n",
       " ('@catholicpres', 1),\n",
       " ('@catholicuniv', 1),\n",
       " ('https://t.co/evqby035wf', 1),\n",
       " ('https://t.co/riqrhxxeim', 1),\n",
       " ('@@ballardspahrll', 1),\n",
       " ('#aca', 1),\n",
       " ('easier...take', 1),\n",
       " ('ã\\x82â\\x93necessaryã\\x82â\\x94', 1),\n",
       " ('https://t.co/0fmsmlgepm', 1),\n",
       " ('husted:', 1),\n",
       " ('irishman', 1),\n",
       " ('#happystpatricksday!', 1)]"
      ]
     },
     "execution_count": 16,
     "metadata": {},
     "output_type": "execute_result"
    }
   ],
   "source": [
    "sorted(wordlist_dictionary.items(), key=lambda kv: kv[1])[:20]"
   ]
  },
  {
   "cell_type": "markdown",
   "metadata": {},
   "source": [
    "**Ответ:** Здесь все редкие слова встречаются по одному разу. Это редкие хештеги, ссылки, слова с опечатками/связанными с ними знаками препинания. Вероятно, такие слова лучше не учитывать в обучении.\n",
    "\n"
   ]
  },
  {
   "cell_type": "markdown",
   "metadata": {},
   "source": [
    "Теперь воспользуемся токенайзером получше - TweetTokenizer из библиотеки nltk. Примените его и посмотрите на топ-10 популярных слов. Чем он отличается от топа, который получался раньше? Почему?"
   ]
  },
  {
   "cell_type": "code",
   "execution_count": 17,
   "metadata": {},
   "outputs": [
    {
     "data": {
      "text/plain": [
       "[('the', 24337),\n",
       " ('.', 24108),\n",
       " ('to', 22933),\n",
       " (',', 17571),\n",
       " ('and', 14354),\n",
       " ('of', 12904),\n",
       " ('a', 11045),\n",
       " ('in', 10573),\n",
       " ('?', 9524),\n",
       " ('for', 8228)]"
      ]
     },
     "execution_count": 17,
     "metadata": {},
     "output_type": "execute_result"
    }
   ],
   "source": [
    "from nltk.tokenize import TweetTokenizer\n",
    "\n",
    "tw = TweetTokenizer()\n",
    "tokenizer_list = tw.tokenize(\" \".join(train[\"OriginalTweet\"]))\n",
    "tokenizer_dictionary = Counter(tokenizer_list)\n",
    "sorted(tokenizer_dictionary.items(), key=lambda kv: kv[1], reverse=True)[:10]"
   ]
  },
  {
   "cell_type": "markdown",
   "metadata": {},
   "source": [
    "**Ответ:** Отличается наличием знаков препинания как отдельных слов, а также токенайзер различает большие и маленькие буквы:"
   ]
  },
  {
   "cell_type": "code",
   "execution_count": 18,
   "metadata": {},
   "outputs": [
    {
     "data": {
      "text/plain": [
       "(24337, 2516)"
      ]
     },
     "execution_count": 18,
     "metadata": {},
     "output_type": "execute_result"
    }
   ],
   "source": [
    "tokenizer_dictionary[\"the\"], tokenizer_dictionary[\"The\"]"
   ]
  },
  {
   "cell_type": "markdown",
   "metadata": {},
   "source": [
    "Удалите из словаря стоп-слова и пунктуацию, посмотрите на новый топ-10 слов с количеством встреч, есть ли теперь в нем что-то не похожее на слова?"
   ]
  },
  {
   "cell_type": "code",
   "execution_count": 19,
   "metadata": {},
   "outputs": [
    {
     "data": {
      "text/plain": [
       "[('Â', 7415),\n",
       " ('\\x82', 7311),\n",
       " ('19', 7167),\n",
       " ('#coronavirus', 7143),\n",
       " ('I', 5235),\n",
       " ('\\x92', 4372),\n",
       " ('prices', 4281),\n",
       " ('COVID', 4218),\n",
       " ('food', 3795),\n",
       " ('store', 3691)]"
      ]
     },
     "execution_count": 19,
     "metadata": {},
     "output_type": "execute_result"
    }
   ],
   "source": [
    "from string import punctuation\n",
    "\n",
    "noise = stopwords.words(\"english\") + list(punctuation)\n",
    "for key in noise:\n",
    "    del tokenizer_dictionary[key]\n",
    "sorted(tokenizer_dictionary.items(), key=lambda kv: kv[1], reverse=True)[:10]"
   ]
  },
  {
   "cell_type": "markdown",
   "metadata": {},
   "source": [
    "**Ответ:** Да, есть какие-то странные символы, которые не отображаются нормально в текущей кодировке"
   ]
  },
  {
   "cell_type": "markdown",
   "metadata": {},
   "source": [
    "Удалите из словаря токены из одного символа, с позицией в таблице Unicode 128 и более (`ord(x) >= 128`)\n",
    "\n",
    "Выведите топ-10 самых популярных и топ-20 непопулярных слов. Чем полученные топы отличаются от итоговых топов, полученных при использовании токенизации по пробелам? Что теперь лучше, а что хуже?"
   ]
  },
  {
   "cell_type": "code",
   "execution_count": 20,
   "metadata": {},
   "outputs": [
    {
     "data": {
      "text/plain": [
       "[('19', 7167),\n",
       " ('#coronavirus', 7143),\n",
       " ('I', 5235),\n",
       " ('prices', 4281),\n",
       " ('COVID', 4218),\n",
       " ('food', 3795),\n",
       " ('store', 3691),\n",
       " ('supermarket', 3373),\n",
       " ('grocery', 3083),\n",
       " ('people', 3047)]"
      ]
     },
     "execution_count": 20,
     "metadata": {},
     "output_type": "execute_result"
    }
   ],
   "source": [
    "tokenizer_dictionary_without_symbols = dict()\n",
    "for c in tokenizer_dictionary.keys():\n",
    "    if (len(c) != 1 or ord(c) < 128):\n",
    "        tokenizer_dictionary_without_symbols[c] = tokenizer_dictionary[c]\n",
    "tokenizer_dictionary = tokenizer_dictionary_without_symbols\n",
    "sorted(tokenizer_dictionary.items(), key=lambda kv: kv[1], reverse=True)[:10]"
   ]
  },
  {
   "cell_type": "code",
   "execution_count": 21,
   "metadata": {},
   "outputs": [
    {
     "data": {
      "text/plain": [
       "[('https://t.co/1m881CwFUv', 1),\n",
       " ('https://t.co/Z0intkS34x', 1),\n",
       " ('MnuchinÃ', 1),\n",
       " ('https://t.co/JmoBv8z0U0', 1),\n",
       " (\"University's\", 1),\n",
       " ('@CatholicPres', 1),\n",
       " ('@CatholicUniv', 1),\n",
       " ('https://t.co/EvQby035wF', 1),\n",
       " ('https://t.co/rIQrhxxeIM', 1),\n",
       " ('@BallardSpahrLL', 1),\n",
       " ('#training', 1),\n",
       " ('#aca', 1),\n",
       " ('https://t.co/0FmSmlGePM', 1),\n",
       " ('Irishman', 1),\n",
       " ('#HappyStPatricksDay', 1),\n",
       " ('Guiness', 1),\n",
       " ('https://t.co/18V0PYHwb7', 1),\n",
       " ('https://t.co/LS0g86i8PU', 1),\n",
       " ('https://t.co/oFVkejfF23', 1),\n",
       " ('https://t.co/Xoodgd2uLx', 1)]"
      ]
     },
     "execution_count": 21,
     "metadata": {},
     "output_type": "execute_result"
    }
   ],
   "source": [
    "sorted(tokenizer_dictionary.items(), key=lambda kv: kv[1])[:20]"
   ]
  },
  {
   "cell_type": "markdown",
   "metadata": {},
   "source": [
    "**Ответ:** Слова считаются лучше: теперь подсчёт не включает, например, различные знаки препинания, идущие сразу после слов. Однако теперь подсчёт учитывает регистр букв: the и The считаются разными словами (что может быть полезно, но не всегда)."
   ]
  },
  {
   "cell_type": "markdown",
   "metadata": {},
   "source": [
    "Выведите топ-10 популярных хештегов с количеством встреч. Что можно сказать о них?"
   ]
  },
  {
   "cell_type": "code",
   "execution_count": 22,
   "metadata": {},
   "outputs": [
    {
     "data": {
      "text/plain": [
       "[('#coronavirus', 7143),\n",
       " ('#COVID19', 1844),\n",
       " ('#Covid_19', 1463),\n",
       " ('#Coronavirus', 1281),\n",
       " ('#COVID2019', 927),\n",
       " ('#toiletpaper', 657),\n",
       " ('#covid19', 568),\n",
       " ('#COVID', 542),\n",
       " ('#CoronaCrisis', 426),\n",
       " ('#CoronaVirus', 351)]"
      ]
     },
     "execution_count": 22,
     "metadata": {},
     "output_type": "execute_result"
    }
   ],
   "source": [
    "hashtags = dict((k, v) for k, v in tokenizer_dictionary.items() if k[0] == \"#\")\n",
    "sorted(hashtags.items(), key=lambda kv: kv[1], reverse=True)[:10]"
   ]
  },
  {
   "cell_type": "markdown",
   "metadata": {},
   "source": [
    "**Ответ:** В датасете с твитами про коронавирус чаще всего встречаются теги про коронавирус"
   ]
  },
  {
   "cell_type": "markdown",
   "metadata": {},
   "source": [
    "То же самое проделайте для ссылок на сайт https://t.co Сравнима ли популярность ссылок с популярностью хештегов? Будет ли информация о ссылке на конкретную страницу полезна?"
   ]
  },
  {
   "cell_type": "code",
   "execution_count": 23,
   "metadata": {},
   "outputs": [
    {
     "data": {
      "text/plain": [
       "[('https://t.co/oXA7SWtoNd', 5),\n",
       " ('https://t.co/gP3EusapL8', 4),\n",
       " ('https://t.co/DefTruI1PfÃ\\x82Â', 3),\n",
       " ('https://t.co/WrLHYzIzAA', 3),\n",
       " ('https://t.co/kuwIpF1KQW', 3),\n",
       " ('https://t.co/zjNRx6dKKN', 3),\n",
       " ('https://t.co/3GBBDpdjat', 3),\n",
       " ('https://t.co/e2ZNXajPre', 3),\n",
       " ('https://t.co/CATKegAyOY', 3),\n",
       " ('https://t.co/G63RP042HO', 3)]"
      ]
     },
     "execution_count": 23,
     "metadata": {},
     "output_type": "execute_result"
    }
   ],
   "source": [
    "links = dict((k, v) for k, v in tokenizer_dictionary.items() if k[:12] == \"https://t.co\")\n",
    "sorted(links.items(), key=lambda kv: kv[1], reverse=True)[:10]"
   ]
  },
  {
   "cell_type": "code",
   "execution_count": 24,
   "metadata": {},
   "outputs": [
    {
     "name": "stdout",
     "output_type": "stream",
     "text": [
      "hashtags number: 11069\n",
      "links number: 12797\n"
     ]
    }
   ],
   "source": [
    "print(\"hashtags number:\", len(hashtags))\n",
    "print(\"links number:\", len(links))"
   ]
  },
  {
   "cell_type": "markdown",
   "metadata": {},
   "source": [
    "**Ответ:** Популярность сравнима (т. е. общее число хештегов и общее число ссылок не сильно отличаются), однако по выводу топа словарей это не так заметно, так как ссылки, маскирующие сайты (https://t.co) практически всегда разные, и это различие не несёт информации о самой ссылке и материалах, которые она показывает"
   ]
  },
  {
   "cell_type": "markdown",
   "metadata": {},
   "source": [
    "Используем опыт предыдущих экспериментов и напишем собственный токенайзер, улучшив TweetTokenizer. Функция tokenize должна:\n",
    "\n",
    "\n",
    "\n",
    "*   Привести текст в нижний регистр\n",
    "*   Применить TweetTokenizer для изначального выделения токенов\n",
    "*   Удалить стоп-слова, пунктуацию, токены из одного символа, с позицией в таблице Unicode 128 и более и ссылки на t.co\n",
    "\n"
   ]
  },
  {
   "cell_type": "code",
   "execution_count": 25,
   "metadata": {},
   "outputs": [],
   "source": [
    "def custom_tokenizer(text):\n",
    "  tokens = text.lower()\n",
    "  tw = TweetTokenizer()\n",
    "  tokens = tw.tokenize(tokens)\n",
    "  noise = stopwords.words(\"english\") + list(punctuation)\n",
    "  tokens = [k for k in tokens if k not in noise]\n",
    "  tokens = [k for k in tokens if len(k) != 1 or ord(k) < 128]\n",
    "  tokens = [k for k in tokens if k[:12] != \"https://t.co\"]\n",
    "  return tokens\n"
   ]
  },
  {
   "cell_type": "code",
   "execution_count": 26,
   "metadata": {},
   "outputs": [
    {
     "data": {
      "text/plain": [
       "['sample', 'text', '@sample_text', '#sampletext']"
      ]
     },
     "execution_count": 26,
     "metadata": {},
     "output_type": "execute_result"
    }
   ],
   "source": [
    "custom_tokenizer('This is sample text!!!! @Sample_text I, \\x92\\x92 https://t.co/sample  #sampletext')"
   ]
  },
  {
   "cell_type": "markdown",
   "metadata": {},
   "source": [
    "## Задание 3 Векторизация текстов (2 балла)"
   ]
  },
  {
   "cell_type": "markdown",
   "metadata": {},
   "source": [
    "Обучите CountVectorizer с использованием custom_tokenizer в качестве токенайзера. Как размер полученного словаря соотносится с размером изначального словаря из начала задания 2?"
   ]
  },
  {
   "cell_type": "code",
   "execution_count": 27,
   "metadata": {},
   "outputs": [
    {
     "name": "stderr",
     "output_type": "stream",
     "text": [
      "c:\\Users\\extra\\AppData\\Local\\Programs\\Python\\Python39\\lib\\site-packages\\sklearn\\feature_extraction\\text.py:525: UserWarning: The parameter 'token_pattern' will not be used since 'tokenizer' is not None'\n",
      "  warnings.warn(\n"
     ]
    },
    {
     "name": "stdout",
     "output_type": "stream",
     "text": [
      "45308\n"
     ]
    }
   ],
   "source": [
    "from sklearn.feature_extraction.text import CountVectorizer\n",
    "\n",
    "cv = CountVectorizer(tokenizer=custom_tokenizer)\n",
    "train_cv = cv.fit_transform(train[\"OriginalTweet\"])\n",
    "print(len(cv.vocabulary_))"
   ]
  },
  {
   "cell_type": "markdown",
   "metadata": {},
   "source": [
    "**Ответ:** Словарь более чем в 2 раза меньше, потому что из него удалены стоп-слова, ссылки и т. п."
   ]
  },
  {
   "cell_type": "markdown",
   "metadata": {},
   "source": [
    "Посмотрим на какой-нибудь конкретный твитт:"
   ]
  },
  {
   "cell_type": "code",
   "execution_count": 28,
   "metadata": {},
   "outputs": [
    {
     "data": {
      "text/plain": [
       "('Nice one @SkyNews lets not panic but show ppl in france queueing for food!!! #CoronavirusOutbreak #COVID2019 brainless!! Ffs',\n",
       " 0)"
      ]
     },
     "execution_count": 28,
     "metadata": {},
     "output_type": "execute_result"
    }
   ],
   "source": [
    "ind = 9023\n",
    "train.iloc[ind]['OriginalTweet'], train.iloc[ind]['Sentiment']"
   ]
  },
  {
   "cell_type": "markdown",
   "metadata": {},
   "source": [
    "Автор твитта не доволен ситуацией с едой во Франции и текст имеет резко негативную окраску.\n",
    "\n",
    "Примените обученный CountVectorizer для векторизации данного текста, и попытайтесь определить самый важный токен и самый неважный токен (токен, компонента которого в векторе максимальна/минимальна, без учета 0). Хорошо ли они определились, почему?"
   ]
  },
  {
   "cell_type": "code",
   "execution_count": 29,
   "metadata": {},
   "outputs": [
    {
     "name": "stdout",
     "output_type": "stream",
     "text": [
      "Most important: show\n",
      "Least important: #coronavirusoutbreak\n"
     ]
    }
   ],
   "source": [
    "dictionary = dict()\n",
    "words = custom_tokenizer(train.iloc[ind]['OriginalTweet'])\n",
    "\n",
    "for w in words:\n",
    "    dictionary[w] = cv.vocabulary_[w]\n",
    "\n",
    "print(\"Most important:\", max(dictionary))\n",
    "print(\"Least important:\", min(dictionary))"
   ]
  },
  {
   "cell_type": "markdown",
   "metadata": {},
   "source": [
    "**Ответ:** Плохо. Чисто интуитивно в твите можно выделить и более важные слова, чем show, однако даже на уровне этих двух примеров кажется, что хештег позволяет скорее судить о настроении твита, чем слово show"
   ]
  },
  {
   "cell_type": "markdown",
   "metadata": {},
   "source": [
    "Теперь примените TfidfVectorizer и  определите самый важный/неважный токены. Хорошо ли определились, почему?"
   ]
  },
  {
   "cell_type": "code",
   "execution_count": 30,
   "metadata": {},
   "outputs": [
    {
     "name": "stdout",
     "output_type": "stream",
     "text": [
      "Most important: show\n",
      "Least important: #coronavirusoutbreak\n"
     ]
    }
   ],
   "source": [
    "from sklearn.feature_extraction.text import TfidfVectorizer\n",
    "tv = TfidfVectorizer(tokenizer=custom_tokenizer)\n",
    "train_tv = tv.fit_transform(train[\"OriginalTweet\"])\n",
    "dictionary = dict()\n",
    "words = custom_tokenizer(train.iloc[ind]['OriginalTweet'])\n",
    "\n",
    "for w in words:\n",
    "    dictionary[w] = tv.vocabulary_[w]\n",
    "\n",
    "print(\"Most important:\", max(dictionary))\n",
    "print(\"Least important:\", min(dictionary))"
   ]
  },
  {
   "cell_type": "markdown",
   "metadata": {},
   "source": [
    "**Ответ:** Определились так же, как и в предыдущем задании"
   ]
  },
  {
   "cell_type": "markdown",
   "metadata": {},
   "source": [
    "Найдите какой-нибудь положительно окрашенный твитт, где TfidfVectorizer хорошо (полезно для определения окраски) выделяет важный токен, поясните пример.\n",
    "\n",
    "*Подсказка:* явно положительные твитты можно искать при помощи положительных слов (good, great, amazing и т. д.)"
   ]
  },
  {
   "cell_type": "code",
   "execution_count": 31,
   "metadata": {},
   "outputs": [
    {
     "data": {
      "text/html": [
       "<div>\n",
       "<style scoped>\n",
       "    .dataframe tbody tr th:only-of-type {\n",
       "        vertical-align: middle;\n",
       "    }\n",
       "\n",
       "    .dataframe tbody tr th {\n",
       "        vertical-align: top;\n",
       "    }\n",
       "\n",
       "    .dataframe thead th {\n",
       "        text-align: right;\n",
       "    }\n",
       "</style>\n",
       "<table border=\"1\" class=\"dataframe\">\n",
       "  <thead>\n",
       "    <tr style=\"text-align: right;\">\n",
       "      <th></th>\n",
       "      <th>UserName</th>\n",
       "      <th>ScreenName</th>\n",
       "      <th>Location</th>\n",
       "      <th>TweetAt</th>\n",
       "      <th>OriginalTweet</th>\n",
       "      <th>Sentiment</th>\n",
       "    </tr>\n",
       "  </thead>\n",
       "  <tbody>\n",
       "    <tr>\n",
       "      <th>21153</th>\n",
       "      <td>29594</td>\n",
       "      <td>74546</td>\n",
       "      <td>Canada</td>\n",
       "      <td>01-04-2020</td>\n",
       "      <td>\"Record stores are tactile, physical spaces, c...</td>\n",
       "      <td>1</td>\n",
       "    </tr>\n",
       "    <tr>\n",
       "      <th>3845</th>\n",
       "      <td>8467</td>\n",
       "      <td>53419</td>\n",
       "      <td>Cincinnati, Ohio</td>\n",
       "      <td>18-03-2020</td>\n",
       "      <td>Never in all my days have I seen the grocery s...</td>\n",
       "      <td>1</td>\n",
       "    </tr>\n",
       "    <tr>\n",
       "      <th>31039</th>\n",
       "      <td>41987</td>\n",
       "      <td>86939</td>\n",
       "      <td>Canada</td>\n",
       "      <td>11-04-2020</td>\n",
       "      <td>After learning that toilet paper sales went up...</td>\n",
       "      <td>1</td>\n",
       "    </tr>\n",
       "    <tr>\n",
       "      <th>31162</th>\n",
       "      <td>42133</td>\n",
       "      <td>87085</td>\n",
       "      <td>Unknown</td>\n",
       "      <td>11-04-2020</td>\n",
       "      <td>Wow..just..wow...so many haven't had a paychec...</td>\n",
       "      <td>1</td>\n",
       "    </tr>\n",
       "    <tr>\n",
       "      <th>13179</th>\n",
       "      <td>19788</td>\n",
       "      <td>64740</td>\n",
       "      <td>Unknown</td>\n",
       "      <td>22-03-2020</td>\n",
       "      <td>Received an email from ?@SouthwestAir? and tho...</td>\n",
       "      <td>1</td>\n",
       "    </tr>\n",
       "    <tr>\n",
       "      <th>31635</th>\n",
       "      <td>42711</td>\n",
       "      <td>87663</td>\n",
       "      <td>New York, NY</td>\n",
       "      <td>12-04-2020</td>\n",
       "      <td>Quarantine shopping: wow, bread making machine...</td>\n",
       "      <td>1</td>\n",
       "    </tr>\n",
       "    <tr>\n",
       "      <th>11382</th>\n",
       "      <td>17603</td>\n",
       "      <td>62555</td>\n",
       "      <td>Greenwich, London</td>\n",
       "      <td>21-03-2020</td>\n",
       "      <td>Back in Blighty and wow how things have change...</td>\n",
       "      <td>1</td>\n",
       "    </tr>\n",
       "    <tr>\n",
       "      <th>23203</th>\n",
       "      <td>32145</td>\n",
       "      <td>77097</td>\n",
       "      <td>England, United Kingdom</td>\n",
       "      <td>04-04-2020</td>\n",
       "      <td>Due to #COVID2019 some bus drivers Don't wear ...</td>\n",
       "      <td>1</td>\n",
       "    </tr>\n",
       "  </tbody>\n",
       "</table>\n",
       "</div>"
      ],
      "text/plain": [
       "       UserName  ScreenName                 Location     TweetAt  \\\n",
       "21153     29594       74546                   Canada  01-04-2020   \n",
       "3845       8467       53419         Cincinnati, Ohio  18-03-2020   \n",
       "31039     41987       86939                   Canada  11-04-2020   \n",
       "31162     42133       87085                  Unknown  11-04-2020   \n",
       "13179     19788       64740                  Unknown  22-03-2020   \n",
       "31635     42711       87663             New York, NY  12-04-2020   \n",
       "11382     17603       62555        Greenwich, London  21-03-2020   \n",
       "23203     32145       77097  England, United Kingdom  04-04-2020   \n",
       "\n",
       "                                           OriginalTweet  Sentiment  \n",
       "21153  \"Record stores are tactile, physical spaces, c...          1  \n",
       "3845   Never in all my days have I seen the grocery s...          1  \n",
       "31039  After learning that toilet paper sales went up...          1  \n",
       "31162  Wow..just..wow...so many haven't had a paychec...          1  \n",
       "13179  Received an email from ?@SouthwestAir? and tho...          1  \n",
       "31635  Quarantine shopping: wow, bread making machine...          1  \n",
       "11382  Back in Blighty and wow how things have change...          1  \n",
       "23203  Due to #COVID2019 some bus drivers Don't wear ...          1  "
      ]
     },
     "execution_count": 31,
     "metadata": {},
     "output_type": "execute_result"
    }
   ],
   "source": [
    "train[train['OriginalTweet'].apply(lambda x: 'wow' in x) & (train['Sentiment'] == 1)]"
   ]
  },
  {
   "cell_type": "code",
   "execution_count": 32,
   "metadata": {},
   "outputs": [
    {
     "name": "stdout",
     "output_type": "stream",
     "text": [
      "Never in all my days have I seen the grocery store packed at 7:00 am in the morning. Just wow! #coronavirus #COVID19 #CoronaVirusUpdate\n",
      "Most important: wow\n",
      "Least important: #coronavirus\n"
     ]
    }
   ],
   "source": [
    "tweet = train.loc[3845]['OriginalTweet']\n",
    "words = custom_tokenizer(tweet)\n",
    "print(tweet)\n",
    "\n",
    "for w in words:\n",
    "    dictionary[w] = tv.vocabulary_[w]\n",
    "\n",
    "print(\"Most important:\", max(dictionary))\n",
    "print(\"Least important:\", min(dictionary))"
   ]
  },
  {
   "cell_type": "markdown",
   "metadata": {},
   "source": [
    "**Ответ:** Слово wow хорошо показывает положительную окраску твита, а хештег о коронавирусе, который, напротив, чаще будет говорить о негативной окраске, в данном случае как раз помечен как неважный"
   ]
  },
  {
   "cell_type": "markdown",
   "metadata": {},
   "source": [
    "## Задание 4 Обучение первых моделей (1 балл)"
   ]
  },
  {
   "cell_type": "markdown",
   "metadata": {},
   "source": [
    "Примените оба векторайзера для получения матриц с признаками текстов.  Выделите целевую переменную."
   ]
  },
  {
   "cell_type": "code",
   "execution_count": 33,
   "metadata": {},
   "outputs": [],
   "source": [
    "y_train = train[\"Sentiment\"]\n",
    "y_test = test[\"Sentiment\"]\n",
    "\n",
    "test_cv = cv.transform(test[\"OriginalTweet\"])\n",
    "test_tv = tv.transform(test[\"OriginalTweet\"])"
   ]
  },
  {
   "cell_type": "markdown",
   "metadata": {},
   "source": [
    "Обучите логистическую регрессию на векторах из обоих векторайзеров. Посчитайте долю правильных ответов на обучающих и тестовых данных. Какой векторайзер показал лучший результат? Что можно сказать о моделях?"
   ]
  },
  {
   "cell_type": "code",
   "execution_count": 34,
   "metadata": {},
   "outputs": [
    {
     "name": "stdout",
     "output_type": "stream",
     "text": [
      "CV train accuracy: 0.9844510892780863\n",
      "CV test accuracy: 0.8672513454255532\n",
      "\n",
      "TV train accuracy: 0.9254592054677488\n",
      "TV test accuracy: 0.8531991229818616\n"
     ]
    }
   ],
   "source": [
    "from sklearn.linear_model import LogisticRegression\n",
    "from sklearn.metrics import accuracy_score\n",
    "\n",
    "lr_cv = LogisticRegression(max_iter=1000, random_state=1337)\n",
    "lr_cv.fit(train_cv, y_train)\n",
    "\n",
    "print(\"CV train accuracy:\", accuracy_score(y_train, lr_cv.predict(train_cv)))\n",
    "print(\"CV test accuracy:\", accuracy_score(y_test, lr_cv.predict(test_cv)))\n",
    "\n",
    "print()\n",
    "\n",
    "lr_tv = LogisticRegression(max_iter=1000, random_state=1337)\n",
    "lr_tv.fit(train_tv, y_train)\n",
    "\n",
    "print(\"TV train accuracy:\", accuracy_score(y_train, lr_tv.predict(train_tv)))\n",
    "print(\"TV test accuracy:\", accuracy_score(y_test, lr_tv.predict(test_tv)))"
   ]
  },
  {
   "cell_type": "markdown",
   "metadata": {},
   "source": [
    "**Ответ:** Результат CV лучше"
   ]
  },
  {
   "cell_type": "markdown",
   "metadata": {},
   "source": [
    "## Задание 5 Стемминг (0.5 балла)"
   ]
  },
  {
   "cell_type": "markdown",
   "metadata": {},
   "source": [
    "Для уменьшения словаря можно использовать стемминг.\n",
    "\n",
    "Модифицируйте написанный токенайзер, добавив в него стемминг с использованием SnowballStemmer. Обучите Count- и Tfidf- векторайзеры. Как изменился размер словаря?"
   ]
  },
  {
   "cell_type": "code",
   "execution_count": 35,
   "metadata": {},
   "outputs": [],
   "source": [
    "from nltk.stem.snowball import SnowballStemmer\n",
    "\n",
    "def custom_stem_tokenizer(text):\n",
    "  tokens = text.lower()\n",
    "  tw = TweetTokenizer()\n",
    "  tokens = tw.tokenize(tokens)\n",
    "  noise = stopwords.words(\"english\") + list(punctuation)\n",
    "  tokens = [k for k in tokens if k not in noise]\n",
    "  tokens = [k for k in tokens if len(k) != 1 or ord(k) < 128]\n",
    "  tokens = [k for k in tokens if k[:12] != \"https://t.co\"]\n",
    "  stemmer = SnowballStemmer(\"english\")\n",
    "  tokens = [stemmer.stem(w) for w in tokens]\n",
    "  return tokens"
   ]
  },
  {
   "cell_type": "code",
   "execution_count": 36,
   "metadata": {},
   "outputs": [
    {
     "data": {
      "text/plain": [
       "['sampl', 'text', '@sample_text', '#sampletext', 'ad', 'word', 'check', 'stem']"
      ]
     },
     "execution_count": 36,
     "metadata": {},
     "output_type": "execute_result"
    }
   ],
   "source": [
    "custom_stem_tokenizer('This is sample text!!!! @Sample_text I, \\x92\\x92 https://t.co/sample  #sampletext adding more words to check stemming')"
   ]
  },
  {
   "cell_type": "code",
   "execution_count": 37,
   "metadata": {},
   "outputs": [
    {
     "name": "stderr",
     "output_type": "stream",
     "text": [
      "c:\\Users\\extra\\AppData\\Local\\Programs\\Python\\Python39\\lib\\site-packages\\sklearn\\feature_extraction\\text.py:525: UserWarning: The parameter 'token_pattern' will not be used since 'tokenizer' is not None'\n",
      "  warnings.warn(\n"
     ]
    },
    {
     "name": "stdout",
     "output_type": "stream",
     "text": [
      "36652\n"
     ]
    }
   ],
   "source": [
    "cv = CountVectorizer(tokenizer=custom_stem_tokenizer)\n",
    "train_cv = cv.fit_transform(train[\"OriginalTweet\"])\n",
    "\n",
    "print(len(cv.vocabulary_))"
   ]
  },
  {
   "cell_type": "code",
   "execution_count": 38,
   "metadata": {},
   "outputs": [
    {
     "name": "stdout",
     "output_type": "stream",
     "text": [
      "36652\n"
     ]
    }
   ],
   "source": [
    "tv = TfidfVectorizer(tokenizer=custom_stem_tokenizer)\n",
    "train_tv = tv.fit_transform(train[\"OriginalTweet\"])\n",
    "print(len(tv.vocabulary_))"
   ]
  },
  {
   "cell_type": "markdown",
   "metadata": {},
   "source": [
    "**Ответ** Размер словаря ещё сильнее уменьшился, так как теперь разные формы слова учитываются как одно"
   ]
  },
  {
   "cell_type": "markdown",
   "metadata": {},
   "source": [
    "Обучите логистическую регрессию с использованием обоих векторайзеров. Изменилось ли качество? Есть ли смысл применять стемминг?"
   ]
  },
  {
   "cell_type": "code",
   "execution_count": 39,
   "metadata": {},
   "outputs": [
    {
     "name": "stdout",
     "output_type": "stream",
     "text": [
      "CV train accuracy: 0.9718923536950022\n",
      "CV test accuracy: 0.8672513454255532\n",
      "\n",
      "TV train accuracy: 0.9158906450234943\n",
      "TV test accuracy: 0.8560892963922663\n"
     ]
    }
   ],
   "source": [
    "test_cv = cv.transform(test[\"OriginalTweet\"])\n",
    "test_tv = tv.transform(test[\"OriginalTweet\"])\n",
    "lr_cv = LogisticRegression(max_iter=1000, random_state=1337)\n",
    "lr_cv.fit(train_cv, y_train)\n",
    "\n",
    "print(\"CV train accuracy:\", accuracy_score(y_train, lr_cv.predict(train_cv)))\n",
    "print(\"CV test accuracy:\", accuracy_score(y_test, lr_cv.predict(test_cv)))\n",
    "\n",
    "print()\n",
    "\n",
    "lr_tv = LogisticRegression(max_iter=1000, random_state=1337)\n",
    "lr_tv.fit(train_tv, y_train)\n",
    "\n",
    "print(\"TV train accuracy:\", accuracy_score(y_train, lr_tv.predict(train_tv)))\n",
    "print(\"TV test accuracy:\", accuracy_score(y_test, lr_tv.predict(test_tv)))"
   ]
  },
  {
   "cell_type": "markdown",
   "metadata": {},
   "source": [
    "**Ответ:** Стемминг сделал хуже трейн и незначительно лучше тест. Смысла применять, наверное, нет."
   ]
  },
  {
   "cell_type": "markdown",
   "metadata": {},
   "source": [
    "## Задание  6 Работа с частотами (1.5 балла)"
   ]
  },
  {
   "cell_type": "markdown",
   "metadata": {},
   "source": [
    "Еще один способ уменьшить количество признаков - это использовать параметры min_df и max_df при построении векторайзера  эти параметры помогают ограничить требуемую частоту встречаемости токена в документах.\n",
    "\n",
    "По умолчанию берутся все токены, которые встретились хотя бы один раз.\n",
    "\n"
   ]
  },
  {
   "cell_type": "markdown",
   "metadata": {},
   "source": [
    "Подберите max_df такой, что размер словаря будет 36651 (на 1 меньше, чем было). Почему параметр получился такой большой/маленький?"
   ]
  },
  {
   "cell_type": "code",
   "execution_count": 40,
   "metadata": {},
   "outputs": [],
   "source": [
    "words = Counter(custom_stem_tokenizer(\" \".join(train[\"OriginalTweet\"]))).items()"
   ]
  },
  {
   "cell_type": "code",
   "execution_count": 41,
   "metadata": {},
   "outputs": [
    {
     "data": {
      "text/plain": [
       "[('#coronavirus', 8809),\n",
       " ('19', 7167),\n",
       " ('covid', 6253),\n",
       " ('price', 5283),\n",
       " ('store', 4671),\n",
       " ('food', 4463),\n",
       " ('supermarket', 4193),\n",
       " ('groceri', 3760),\n",
       " ('peopl', 3501),\n",
       " ('shop', 2796)]"
      ]
     },
     "execution_count": 41,
     "metadata": {},
     "output_type": "execute_result"
    }
   ],
   "source": [
    "sorted(words, key=lambda kv: kv[1], reverse=True)[:10]"
   ]
  },
  {
   "cell_type": "code",
   "execution_count": 42,
   "metadata": {},
   "outputs": [
    {
     "name": "stderr",
     "output_type": "stream",
     "text": [
      "c:\\Users\\extra\\AppData\\Local\\Programs\\Python\\Python39\\lib\\site-packages\\sklearn\\feature_extraction\\text.py:525: UserWarning: The parameter 'token_pattern' will not be used since 'tokenizer' is not None'\n",
      "  warnings.warn(\n"
     ]
    },
    {
     "name": "stdout",
     "output_type": "stream",
     "text": [
      "36651\n"
     ]
    }
   ],
   "source": [
    "cv_df = CountVectorizer(tokenizer=custom_stem_tokenizer,\n",
    "                        max_df=8000\n",
    "                        ).fit(\n",
    "                            train[\"OriginalTweet\"]\n",
    "                            )\n",
    "print(len(cv_df.vocabulary_))"
   ]
  },
  {
   "cell_type": "markdown",
   "metadata": {},
   "source": [
    "**Ответ:** отсекаем хештег #coronavirus"
   ]
  },
  {
   "cell_type": "code",
   "execution_count": 43,
   "metadata": {},
   "outputs": [
    {
     "data": {
      "text/plain": [
       "('bandana', 11)"
      ]
     },
     "execution_count": 43,
     "metadata": {},
     "output_type": "execute_result"
    }
   ],
   "source": [
    "sorted(words, key=lambda kv: kv[1], reverse=True)[3700]"
   ]
  },
  {
   "cell_type": "markdown",
   "metadata": {},
   "source": [
    "Подберите min_df (используйте дефолтное значение max_df) в CountVectorizer таким образом, чтобы размер словаря был 3700 токенов (при использовании токенайзера со стеммингом), а качество осталось таким же, как и было. Что можно сказать о результатах?"
   ]
  },
  {
   "cell_type": "code",
   "execution_count": 44,
   "metadata": {},
   "outputs": [
    {
     "name": "stderr",
     "output_type": "stream",
     "text": [
      "c:\\Users\\extra\\AppData\\Local\\Programs\\Python\\Python39\\lib\\site-packages\\sklearn\\feature_extraction\\text.py:525: UserWarning: The parameter 'token_pattern' will not be used since 'tokenizer' is not None'\n",
      "  warnings.warn(\n"
     ]
    },
    {
     "name": "stdout",
     "output_type": "stream",
     "text": [
      "3700\n"
     ]
    }
   ],
   "source": [
    "cv_df = CountVectorizer(tokenizer=custom_stem_tokenizer,\n",
    "                        min_df=11\n",
    "                        ).fit(\n",
    "                            train[\"OriginalTweet\"]\n",
    "                            )\n",
    "print(len(cv_df.vocabulary_))"
   ]
  },
  {
   "cell_type": "code",
   "execution_count": 46,
   "metadata": {},
   "outputs": [
    {
     "name": "stdout",
     "output_type": "stream",
     "text": [
      "CV train accuracy: 0.9286629645450662\n",
      "CV test accuracy: 0.8680486346422165\n"
     ]
    }
   ],
   "source": [
    "train_cv_df = cv_df.transform(train[\"OriginalTweet\"])\n",
    "test_cv_df = cv_df.transform(test[\"OriginalTweet\"])\n",
    "lr_cv = LogisticRegression(max_iter=1000, random_state=1337)\n",
    "lr_cv.fit(train_cv_df, y_train)\n",
    "\n",
    "print(\"CV train accuracy:\", accuracy_score(y_train, lr_cv.predict(train_cv_df)))\n",
    "print(\"CV test accuracy:\", accuracy_score(y_test, lr_cv.predict(test_cv_df)))"
   ]
  },
  {
   "cell_type": "markdown",
   "metadata": {},
   "source": [
    "**Ответ:** Качество на трейне уменьшилось, на тесте незначительно возросло"
   ]
  },
  {
   "cell_type": "markdown",
   "metadata": {},
   "source": [
    "В предыдущих заданиях признаки не скалировались. Отскалируйте данные (при словаре размера 3.7 тысяч, векторизованные CountVectorizer), обучите логистическую регрессию, посмотрите качество и выведите `berplot` содержащий по 10 токенов, с наибольшим по модулю положительными/отрицательными весами. Что можно сказать об этих токенах?"
   ]
  },
  {
   "cell_type": "code",
   "execution_count": 48,
   "metadata": {},
   "outputs": [
    {
     "name": "stdout",
     "output_type": "stream",
     "text": [
      "CV train accuracy: 0.9416915847928236\n",
      "CV test accuracy: 0.8447279250548136\n"
     ]
    }
   ],
   "source": [
    "from sklearn.preprocessing import StandardScaler\n",
    "\n",
    "scaler = StandardScaler(with_mean=False)\n",
    "train_cv_df = scaler.fit_transform(train_cv_df)\n",
    "test_cv_df = scaler.transform(test_cv_df)\n",
    "\n",
    "lr_cv = LogisticRegression(max_iter=1000, random_state=1337)\n",
    "lr_cv.fit(train_cv_df, y_train)\n",
    "\n",
    "print(\"CV train accuracy:\", accuracy_score(y_train, lr_cv.predict(train_cv_df)))\n",
    "print(\"CV test accuracy:\", accuracy_score(y_test, lr_cv.predict(test_cv_df)))"
   ]
  },
  {
   "cell_type": "code",
   "execution_count": 59,
   "metadata": {},
   "outputs": [
    {
     "data": {
      "text/plain": [
       "<Axes: xlabel='token'>"
      ]
     },
     "execution_count": 59,
     "metadata": {},
     "output_type": "execute_result"
    },
    {
     "data": {
      "image/png": "[encoded data removed]",
      "text/plain": [
       "<Figure size 720x720 with 1 Axes>"
      ]
     },
     "metadata": {
      "needs_background": "light"
     },
     "output_type": "display_data"
    }
   ],
   "source": [
    "tokens = pd.DataFrame({\"token\" : cv_df.get_feature_names_out(), \"coef\" : lr_cv.coef_[0]}).sort_values(by=\"coef\", key=abs)\n",
    "plt.rcParams[\"figure.figsize\"] = (10, 10)\n",
    "tokens[-10:].plot.bar(x=\"token\", y=\"coef\")"
   ]
  },
  {
   "cell_type": "markdown",
   "metadata": {},
   "source": [
    "**Ответ:** В целом слова с положительной эмоциональной окраской отмечены как положительные, а с отрицательной - как отрицательные. Вроде всё работает как надо."
   ]
  },
  {
   "cell_type": "markdown",
   "metadata": {},
   "source": [
    "## Задание 7 Другие признаки (1.5 балла)"
   ]
  },
  {
   "cell_type": "markdown",
   "metadata": {},
   "source": [
    "Мы были сконцентрированы на работе с текстами твиттов и не использовали другие признаки - имена пользователя, дату и местоположение"
   ]
  },
  {
   "cell_type": "markdown",
   "metadata": {},
   "source": [
    "Изучите признаки UserName и ScreenName. полезны ли они? Если полезны, то закодируйте их, добавьте к матрице с отскалированными признаками, обучите логистическую регрессию, замерьте качество."
   ]
  },
  {
   "cell_type": "code",
   "execution_count": 61,
   "metadata": {},
   "outputs": [
    {
     "data": {
      "text/html": [
       "<div>\n",
       "<style scoped>\n",
       "    .dataframe tbody tr th:only-of-type {\n",
       "        vertical-align: middle;\n",
       "    }\n",
       "\n",
       "    .dataframe tbody tr th {\n",
       "        vertical-align: top;\n",
       "    }\n",
       "\n",
       "    .dataframe thead th {\n",
       "        text-align: right;\n",
       "    }\n",
       "</style>\n",
       "<table border=\"1\" class=\"dataframe\">\n",
       "  <thead>\n",
       "    <tr style=\"text-align: right;\">\n",
       "      <th></th>\n",
       "      <th>UserName</th>\n",
       "      <th>ScreenName</th>\n",
       "      <th>Sentiment</th>\n",
       "    </tr>\n",
       "  </thead>\n",
       "  <tbody>\n",
       "    <tr>\n",
       "      <th>UserName</th>\n",
       "      <td>1.000000</td>\n",
       "      <td>1.000000</td>\n",
       "      <td>0.054568</td>\n",
       "    </tr>\n",
       "    <tr>\n",
       "      <th>ScreenName</th>\n",
       "      <td>1.000000</td>\n",
       "      <td>1.000000</td>\n",
       "      <td>0.054568</td>\n",
       "    </tr>\n",
       "    <tr>\n",
       "      <th>Sentiment</th>\n",
       "      <td>0.054568</td>\n",
       "      <td>0.054568</td>\n",
       "      <td>1.000000</td>\n",
       "    </tr>\n",
       "  </tbody>\n",
       "</table>\n",
       "</div>"
      ],
      "text/plain": [
       "            UserName  ScreenName  Sentiment\n",
       "UserName    1.000000    1.000000   0.054568\n",
       "ScreenName  1.000000    1.000000   0.054568\n",
       "Sentiment   0.054568    0.054568   1.000000"
      ]
     },
     "execution_count": 61,
     "metadata": {},
     "output_type": "execute_result"
    }
   ],
   "source": [
    "train.corr()"
   ]
  },
  {
   "cell_type": "markdown",
   "metadata": {},
   "source": [
    "**Ответ:** Нет, они бесполезны, так как имя пользователя очень слабо влияет на настроение твита (да и вообще они числами для анонимности заменены)"
   ]
  },
  {
   "cell_type": "markdown",
   "metadata": {},
   "source": [
    "Изучите признак TweetAt в обучающей выборке: преобразуйте его к типу datetime и нарисуйте его гистограмму с разделением по цвету на оспнове целевой переменной. Полезен ли он? Если полезен, то закодируйте его, добавьте к матрице с отскалированными признаками, обучите логистическую регрессию, замерьте качество."
   ]
  },
  {
   "cell_type": "code",
   "execution_count": 67,
   "metadata": {},
   "outputs": [],
   "source": [
    "import datetime\n",
    "train[\"TweetAt\"] = train[\"TweetAt\"].apply(lambda s: datetime.datetime.strptime(s, \"%d-%m-%Y\").date())"
   ]
  },
  {
   "cell_type": "code",
   "execution_count": 76,
   "metadata": {},
   "outputs": [
    {
     "data": {
      "text/plain": [
       "<matplotlib.legend.Legend at 0x1e4fcd7ceb0>"
      ]
     },
     "execution_count": 76,
     "metadata": {},
     "output_type": "execute_result"
    },
    {
     "data": {
      "image/png": "[encoded data removed]",
      "text/plain": [
       "<Figure size 720x720 with 1 Axes>"
      ]
     },
     "metadata": {
      "needs_background": "light"
     },
     "output_type": "display_data"
    }
   ],
   "source": [
    "train[\"TweetAt\"][train[\"Sentiment\"] == 1].hist()\n",
    "train[\"TweetAt\"][train[\"Sentiment\"] == 0].hist(alpha=0.5)\n",
    "plt.legend([\"1\", \"0\"])"
   ]
  },
  {
   "cell_type": "markdown",
   "metadata": {},
   "source": [
    "**Ответ:** Очень с натяжечкой, но можно сказать, что положительных твитов определённые отрезки времени больше, чем отрицательных (хотя если классифицировать только на основе этого признака - будет очень плохо), поэтому может быть и полезен\n",
    "\n"
   ]
  },
  {
   "cell_type": "markdown",
   "metadata": {},
   "source": [
    "Поработайте с признаком Location в обучающей выборке. Сколько уникальных значений?"
   ]
  },
  {
   "cell_type": "code",
   "execution_count": 77,
   "metadata": {},
   "outputs": [
    {
     "data": {
      "text/plain": [
       "Unknown                           4944\n",
       "London                             301\n",
       "United States                      295\n",
       "London, England                    274\n",
       "New York, NY                       223\n",
       "                                  ... \n",
       "Work: Kent and Live: Sussex          1\n",
       "Somewhere on TradingView             1\n",
       "Honolulu, Hawai?i                    1\n",
       "SFO                                  1\n",
       "Waterville, Ireland Austin, TX       1\n",
       "Name: Location, Length: 7949, dtype: int64"
      ]
     },
     "execution_count": 77,
     "metadata": {},
     "output_type": "execute_result"
    }
   ],
   "source": [
    "train[\"Location\"].value_counts()"
   ]
  },
  {
   "cell_type": "markdown",
   "metadata": {},
   "source": [
    "7949 уникальных значений (включая Unknown)"
   ]
  },
  {
   "cell_type": "markdown",
   "metadata": {},
   "source": [
    "Постройте гистограмму топ-10 по популярности местоположений (исключая Unknown)"
   ]
  },
  {
   "cell_type": "code",
   "execution_count": 84,
   "metadata": {},
   "outputs": [
    {
     "data": {
      "text/plain": [
       "<Axes: >"
      ]
     },
     "execution_count": 84,
     "metadata": {},
     "output_type": "execute_result"
    },
    {
     "data": {
      "image/png": "[encoded data removed]",
      "text/plain": [
       "<Figure size 720x720 with 1 Axes>"
      ]
     },
     "metadata": {
      "needs_background": "light"
     },
     "output_type": "display_data"
    }
   ],
   "source": [
    "train[\"Location\"].value_counts()[1:11].plot(kind='bar')"
   ]
  },
  {
   "cell_type": "markdown",
   "metadata": {},
   "source": [
    "Видно, что многие местоположения включают в себя более точное название места, чем другие (Например, у некоторых стоит London, UK; а у некоторых просто UK или United Kingdom).\n",
    "\n",
    "Создайте новый признак WiderLocation, который содержит самое широкое местоположение (например, из London, UK должно получиться UK). Сколько уникальных категорий теперь? Постройте аналогичную гистограмму."
   ]
  },
  {
   "cell_type": "code",
   "execution_count": 90,
   "metadata": {},
   "outputs": [
    {
     "data": {
      "text/plain": [
       "Unknown                    4944\n",
       "USA                         950\n",
       "England                     860\n",
       "CA                          597\n",
       "India                       535\n",
       "                           ... \n",
       "The DC & The OC               1\n",
       "UK - Europe                   1\n",
       "not Drumpf's Reich USSR       1\n",
       "iowa                          1\n",
       "NIGERIA                       1\n",
       "Name: WiderLocation, Length: 4921, dtype: int64"
      ]
     },
     "execution_count": 90,
     "metadata": {},
     "output_type": "execute_result"
    }
   ],
   "source": [
    "train[\"WiderLocation\"] = train[\"Location\"].apply(lambda s: s.split(\", \")[-1])\n",
    "train[\"WiderLocation\"].value_counts()"
   ]
  },
  {
   "cell_type": "markdown",
   "metadata": {},
   "source": [
    "Теперь 4921 уникальных значений"
   ]
  },
  {
   "cell_type": "code",
   "execution_count": 91,
   "metadata": {},
   "outputs": [
    {
     "data": {
      "text/plain": [
       "<Axes: >"
      ]
     },
     "execution_count": 91,
     "metadata": {},
     "output_type": "execute_result"
    },
    {
     "data": {
      "image/png": "[encoded data removed]",
      "text/plain": [
       "<Figure size 720x720 with 1 Axes>"
      ]
     },
     "metadata": {
      "needs_background": "light"
     },
     "output_type": "display_data"
    }
   ],
   "source": [
    "train[\"WiderLocation\"].value_counts()[1:11].plot(kind='bar')"
   ]
  },
  {
   "cell_type": "markdown",
   "metadata": {},
   "source": [
    "Закодируйте признак WiderLocation с помощью OHE таким образом, чтобы создались только столбцы для местоположений, которые встречаются более одного раза. Сколько таких значений?\n"
   ]
  },
  {
   "cell_type": "markdown",
   "metadata": {},
   "source": [
    "Добавьте этот признак к матрице отскалированных текстовых признаков, обучите логистическую регрессию, замерьте качество. Как оно изменилось? Оказался ли признак полезным?\n",
    "\n",
    "\n",
    "*Подсказка:* используйте параметр `categories` в энкодере."
   ]
  },
  {
   "cell_type": "code",
   "execution_count": null,
   "metadata": {},
   "outputs": [],
   "source": [
    "# -- YOUR CODE HERE --"
   ]
  },
  {
   "cell_type": "markdown",
   "metadata": {},
   "source": [
    "**Ответ:** # -- YOUR ANSWER HERE --"
   ]
  },
  {
   "cell_type": "markdown",
   "metadata": {},
   "source": [
    "## Задание 8 Хорошее качество (Бонус 1 балл)"
   ]
  },
  {
   "cell_type": "markdown",
   "metadata": {},
   "source": [
    "Добейтесь accuracy=0.9 на тестовой выборке (можно сменить токенайзер, векторайзер, модель и т.д.)"
   ]
  },
  {
   "cell_type": "code",
   "execution_count": null,
   "metadata": {},
   "outputs": [],
   "source": [
    "# -- YOUR CODE HERE --"
   ]
  }
 ],
 "metadata": {
  "kernelspec": {
   "display_name": "Python 3",
   "language": "python",
   "name": "python3"
  },
  "language_info": {
   "codemirror_mode": {
    "name": "ipython",
    "version": 3
   },
   "file_extension": ".py",
   "mimetype": "text/x-python",
   "name": "python",
   "nbconvert_exporter": "python",
   "pygments_lexer": "ipython3",
   "version": "3.9.1"
  }
 },
 "nbformat": 4,
 "nbformat_minor": 2
}
